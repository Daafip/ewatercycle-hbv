{
 "cells": [
  {
   "cell_type": "markdown",
   "id": "e9cd8d85-eb4a-45d6-925a-e3e770592043",
   "metadata": {},
   "source": [
    "# Example using HBV model in eWaterCycle"
   ]
  },
  {
   "cell_type": "code",
   "execution_count": 1,
   "id": "ec7e710a-5aa4-40f9-a1cb-151e3cddbe04",
   "metadata": {
    "ExecuteTime": {
     "end_time": "2024-03-07T14:21:32.492461800Z",
     "start_time": "2024-03-07T14:21:31.890843300Z"
    }
   },
   "outputs": [],
   "source": [
    "# general python\n",
    "import warnings\n",
    "warnings.filterwarnings(\"ignore\", category=UserWarning)\n",
    "\n",
    "import numpy as np\n",
    "from pathlib import Path\n",
    "import pandas as pd\n",
    "import matplotlib.pyplot as plt"
   ]
  },
  {
   "cell_type": "code",
   "execution_count": 2,
   "id": "4569a0f2-4bea-48cc-b5a4-ca5384e368c6",
   "metadata": {
    "ExecuteTime": {
     "end_time": "2024-03-07T14:21:34.475126400Z",
     "start_time": "2024-03-07T14:21:32.537461400Z"
    }
   },
   "outputs": [],
   "source": [
    "# general eWC\n",
    "import ewatercycle\n",
    "import ewatercycle.models\n",
    "import ewatercycle.forcing"
   ]
  },
  {
   "cell_type": "markdown",
   "id": "c1a08f9b",
   "metadata": {},
   "source": [
    "Install required plugin with pip:"
   ]
  },
  {
   "cell_type": "markdown",
   "id": "57095f2c-061f-4cff-bbee-ab30f3ecb724",
   "metadata": {
    "scrolled": true
   },
   "source": [
    "```console\n",
    "pip install ewatercycle-HBV\n",
    "```"
   ]
  },
  {
   "cell_type": "markdown",
   "id": "111bc65b-8299-43ba-95fd-e92df6b92707",
   "metadata": {},
   "source": [
    "## set up paths"
   ]
  },
  {
   "cell_type": "code",
   "execution_count": 3,
   "id": "df66893d-b667-4fcc-a841-683f32ed2cc7",
   "metadata": {
    "ExecuteTime": {
     "end_time": "2024-03-07T14:21:34.485126600Z",
     "start_time": "2024-03-07T14:21:34.478127800Z"
    }
   },
   "outputs": [],
   "source": [
    "path = Path.cwd()\n",
    "forcing_path = path / \"Forcing\""
   ]
  },
  {
   "cell_type": "markdown",
   "id": "4787c692-3f9c-402b-9b48-93daeeb47926",
   "metadata": {},
   "source": [
    "## add parameter info"
   ]
  },
  {
   "cell_type": "markdown",
   "id": "324ab8b0-947b-4116-84d9-e476d46ddd98",
   "metadata": {},
   "source": [
    "Array of initial storage terms - we keep these constant for now: <br>\n",
    "                Si,  Su, Sf, Ss\n"
   ]
  },
  {
   "cell_type": "code",
   "execution_count": 4,
   "id": "f70032e1-602a-4163-a338-2a3ff6264c00",
   "metadata": {
    "ExecuteTime": {
     "end_time": "2024-03-07T14:21:34.494347400Z",
     "start_time": "2024-03-07T14:21:34.484123900Z"
    }
   },
   "outputs": [],
   "source": [
    "s_0 = np.array([0,  100,  0,  5])"
   ]
  },
  {
   "cell_type": "markdown",
   "id": "5dc0c05d-0261-4c56-8f2a-69b6afc7a2be",
   "metadata": {},
   "source": [
    "Array of parameters min/max bounds as a reference: <br>\n",
    "Imax,  Ce,  Sumax, beta,  Pmax,  T_lag,   Kf,   Ks"
   ]
  },
  {
   "cell_type": "code",
   "execution_count": 5,
   "id": "f4cff96b-5eca-4147-940f-9e8393034225",
   "metadata": {
    "ExecuteTime": {
     "end_time": "2024-03-07T14:21:34.502125100Z",
     "start_time": "2024-03-07T14:21:34.495134600Z"
    }
   },
   "outputs": [],
   "source": [
    "p_min_initial= np.array([0,   0.2,  40,    .5,   .001,   1,     .01,  .0001])\n",
    "p_max_initial = np.array([8,    1,  800,   4,    .3,     10,    .1,   .01])\n",
    "p_names = [\"$I_{max}$\",  \"$C_e$\",  \"$Su_{max}$\", \"β\",  \"$P_{max}$\",  \"$T_{lag}$\",   \"$K_f$\",   \"$K_s$\"]\n",
    "S_names = [\"Interception storage\", \"Unsaturated Rootzone Storage\", \"Fastflow storage\", \"Groundwater storage\"]\n",
    "param_names = [\"Imax\",\"Ce\",  \"Sumax\", \"beta\",  \"Pmax\",  \"Tlag\",   \"Kf\",   \"Ks\"]"
   ]
  },
  {
   "cell_type": "markdown",
   "id": "c4557dc0-b086-4230-8368-ef9b91cb2711",
   "metadata": {},
   "source": [
    "Set initial as mean of max,min"
   ]
  },
  {
   "cell_type": "code",
   "execution_count": 6,
   "id": "ed960ab6-b63a-4664-8306-b57c2ecf27ec",
   "metadata": {
    "ExecuteTime": {
     "end_time": "2024-03-07T14:21:34.528887900Z",
     "start_time": "2024-03-07T14:21:34.501125300Z"
    }
   },
   "outputs": [],
   "source": [
    "par_0 = (p_min_initial + p_max_initial)/2"
   ]
  },
  {
   "cell_type": "markdown",
   "id": "45b5fc86-ec75-46a8-9f40-4685444628e5",
   "metadata": {},
   "source": [
    "Specify start and end date"
   ]
  },
  {
   "cell_type": "code",
   "execution_count": 7,
   "id": "03aea008-87ce-4d09-8d01-f12dfe6bb116",
   "metadata": {
    "ExecuteTime": {
     "end_time": "2024-03-07T14:21:34.567126600Z",
     "start_time": "2024-03-07T14:21:34.567126600Z"
    }
   },
   "outputs": [],
   "source": [
    "experiment_start_date = \"1997-08-01T00:00:00Z\"\n",
    "experiment_end_date = \"2000-08-31T00:00:00Z\"\n",
    "HRU_id = 2479155\n",
    "alpha = 1.2626"
   ]
  },
  {
   "cell_type": "markdown",
   "id": "1171ca7e-d26a-4cbe-abb0-d741315a708c",
   "metadata": {},
   "source": [
    "## Forcing"
   ]
  },
  {
   "cell_type": "code",
   "execution_count": 8,
   "id": "41855c32-2650-403e-bcad-332eab6c1ec4",
   "metadata": {
    "ExecuteTime": {
     "end_time": "2024-03-07T14:21:34.568127600Z",
     "start_time": "2024-03-07T14:21:34.567126600Z"
    }
   },
   "outputs": [],
   "source": [
    "from ewatercycle_HBV.forcing import HBVForcing"
   ]
  },
  {
   "cell_type": "markdown",
   "id": "70182d7d-93a0-4bb8-ae9d-e895d7e1982f",
   "metadata": {},
   "source": [
    "we use camels forcing as an example, which is fully integrated [Newman, 2014](https://gdex.ucar.edu/dataset/camels.html)"
   ]
  },
  {
   "cell_type": "code",
   "execution_count": 9,
   "id": "6249ec9f-8ff2-4181-ac6f-cac309d8cf72",
   "metadata": {
    "ExecuteTime": {
     "end_time": "2024-03-07T14:21:34.568127600Z",
     "start_time": "2024-03-07T14:21:34.568127600Z"
    }
   },
   "outputs": [],
   "source": [
    "camels_forcing = HBVForcing(start_time = experiment_start_date,\n",
    "                          end_time = experiment_end_date,\n",
    "                          directory = forcing_path,\n",
    "                          camels_file = f'0{HRU_id}_lump_cida_forcing_leap.txt',\n",
    "                          alpha= alpha\n",
    "                          )"
   ]
  },
  {
   "cell_type": "markdown",
   "id": "ff45d384-3549-414b-b8f2-793399161aaf",
   "metadata": {},
   "source": [
    "## Setting up the model"
   ]
  },
  {
   "cell_type": "code",
   "execution_count": 10,
   "id": "d62a1be2-e5a1-4c82-aaf0-9ab2eeea14af",
   "metadata": {
    "ExecuteTime": {
     "end_time": "2024-03-07T14:21:34.569218800Z",
     "start_time": "2024-03-07T14:21:34.568127600Z"
    }
   },
   "outputs": [],
   "source": [
    "from ewatercycle.models import HBV"
   ]
  },
  {
   "cell_type": "code",
   "execution_count": 11,
   "id": "6160254a-89f6-4234-a74f-140edff3efb5",
   "metadata": {
    "ExecuteTime": {
     "end_time": "2024-03-07T14:21:34.569218800Z",
     "start_time": "2024-03-07T14:21:34.568127600Z"
    }
   },
   "outputs": [],
   "source": [
    "model = HBV(forcing=camels_forcing)"
   ]
  },
  {
   "cell_type": "code",
   "execution_count": 12,
   "id": "ebbd898f-b3cc-4d03-8050-21067d31c1e8",
   "metadata": {
    "ExecuteTime": {
     "end_time": "2024-03-07T14:21:34.948731400Z",
     "start_time": "2024-03-07T14:21:34.568127600Z"
    }
   },
   "outputs": [],
   "source": [
    "config_file, _ = model.setup(\n",
    "            parameters=','.join([str(p) for p in par_0]),\n",
    "    initial_storage=','.join([str(s) for s in s_0]),\n",
    "           )"
   ]
  },
  {
   "cell_type": "code",
   "execution_count": 13,
   "id": "ba14b408-e446-45aa-b406-91dc35f40bc1",
   "metadata": {
    "ExecuteTime": {
     "end_time": "2024-03-07T14:21:34.957732500Z",
     "start_time": "2024-03-07T14:21:34.953733500Z"
    }
   },
   "outputs": [],
   "source": [
    "model.initialize(config_file)"
   ]
  },
  {
   "cell_type": "markdown",
   "id": "1e320191-4ee4-4535-94f3-05e5afef96e2",
   "metadata": {},
   "source": [
    "## Running model"
   ]
  },
  {
   "cell_type": "code",
   "execution_count": 14,
   "id": "579fe3d8-0418-4e76-9d66-9c1a938812cc",
   "metadata": {
    "ExecuteTime": {
     "start_time": "2024-03-07T14:21:34.997729900Z"
    }
   },
   "outputs": [],
   "source": [
    "Q_m = []\n",
    "time = []\n",
    "while model.time < model.end_time:\n",
    "    model.update()\n",
    "    Q_m.append(model.get_value(\"Q\"))\n",
    "    time.append(pd.Timestamp(model.time_as_datetime.date()))"
   ]
  },
  {
   "cell_type": "markdown",
   "id": "b2a78bda-4e19-474f-8367-acec10c50f52",
   "metadata": {},
   "source": [
    "After running the model: finalize to shut everything down"
   ]
  },
  {
   "cell_type": "code",
   "execution_count": 15,
   "id": "a6fd6178-1059-497a-a91f-dd0fa983df2a",
   "metadata": {
    "ExecuteTime": {
     "end_time": "2024-03-07T14:21:35.030728200Z",
     "start_time": "2024-03-07T14:21:34.997729900Z"
    }
   },
   "outputs": [],
   "source": [
    "model.finalize()"
   ]
  },
  {
   "cell_type": "markdown",
   "id": "9b88262e-c750-4f8e-a602-50c404969690",
   "metadata": {},
   "source": [
    "## Process results:"
   ]
  },
  {
   "cell_type": "code",
   "execution_count": 16,
   "id": "ccde9dca-258d-409c-a602-d4abda553b32",
   "metadata": {
    "ExecuteTime": {
     "start_time": "2024-03-07T14:21:34.997729900Z"
    }
   },
   "outputs": [],
   "source": [
    "df = pd.DataFrame(data=Q_m,columns=[\"Modeled discharge\"],index=time)"
   ]
  },
  {
   "cell_type": "code",
   "execution_count": 17,
   "id": "a39c2e98-30d0-4658-adbd-b2feae7062f4",
   "metadata": {
    "ExecuteTime": {
     "start_time": "2024-03-07T14:21:34.997729900Z"
    }
   },
   "outputs": [
    {
     "data": {
      "image/png": "[encoded data removed]",
      "text/plain": [
       "<Figure size 640x480 with 1 Axes>"
      ]
     },
     "metadata": {},
     "output_type": "display_data"
    }
   ],
   "source": [
    "fig, ax = plt.subplots(1,1)\n",
    "df.plot(ax=ax,label=\"Modeled discharge HBV-bmi\")\n",
    "ax.legend(bbox_to_anchor=(1,1));"
   ]
  }
 ],
 "metadata": {
  "kernelspec": {
   "display_name": "Python 3 (ipykernel)",
   "language": "python",
   "name": "python3"
  },
  "language_info": {
   "codemirror_mode": {
    "name": "ipython",
    "version": 3
   },
   "file_extension": ".py",
   "mimetype": "text/x-python",
   "name": "python",
   "nbconvert_exporter": "python",
   "pygments_lexer": "ipython3",
   "version": "3.10.13"
  }
 },
 "nbformat": 4,
 "nbformat_minor": 5
}
